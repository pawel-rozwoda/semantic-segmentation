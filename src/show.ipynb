{
 "cells": [
  {
   "cell_type": "code",
   "execution_count": null,
   "metadata": {
    "scrolled": false
   },
   "outputs": [],
   "source": [
    "import torch\n",
    "from aux import str_to_mask \n",
    "import matplotlib.pyplot as plt\n",
    "from PIL import Image\n",
    "from load import MyDataset\n",
    "\n",
    "TRAIN_PATH = \"../data/train_images/\"\n",
    "LABELS = \"../data/train.csv\"\n",
    "TRAIN_PARTITION = 0.8\n",
    "\n",
    "fig_size = plt.rcParams[\"figure.figsize\"]\n",
    "fig_size[0] = 15\n",
    "fig_size[1] = 10\n",
    "plt.rcParams[\"figure.figsize\"] = fig_size\n",
    "\n",
    "\n",
    "dataset = MyDataset(train_dir=TRAIN_PATH, labels=LABELS, train=False, train_partition=TRAIN_PARTITION,do_not_scale=True)\n",
    "\n",
    "\n",
    "for sample, label in dataset:\n",
    "    \n",
    "    print(\"================================================================\")\n",
    "    print(\"################################################################\")\n",
    "    print(\"================================================================\")\n",
    "    sample = sample.permute(1,2,0)\n",
    "    label = label.permute(1,2,0)\n",
    "    \n",
    "    print('Fish')    \n",
    "    plt.imshow(sample)\n",
    "    plt.imshow(label[:,:,0], alpha = 0.3)\n",
    "    plt.show()\n",
    "    \n",
    "    print('Flower')\n",
    "    plt.imshow(sample)\n",
    "    plt.imshow(label[:,:,1], alpha = 0.3)\n",
    "    plt.show()\n",
    "\n",
    "    \n",
    "    print('Gravel')\n",
    "    plt.imshow(sample)\n",
    "    plt.imshow(label[:,:,2], alpha = 0.3)\n",
    "    plt.show()\n",
    "    \n",
    "    print('Sugar')\n",
    "    plt.imshow(sample)\n",
    "    plt.imshow(label[:,:,3], alpha = 0.3)\n",
    "    plt.show()\n",
    "\n",
    "    input(\"\")"
   ]
  }
 ],
 "metadata": {
  "kernelspec": {
   "display_name": "Python 3",
   "language": "python",
   "name": "python3"
  },
  "language_info": {
   "codemirror_mode": {
    "name": "ipython",
    "version": 3
   },
   "file_extension": ".py",
   "mimetype": "text/x-python",
   "name": "python",
   "nbconvert_exporter": "python",
   "pygments_lexer": "ipython3",
   "version": "3.6.9"
  }
 },
 "nbformat": 4,
 "nbformat_minor": 4
}
